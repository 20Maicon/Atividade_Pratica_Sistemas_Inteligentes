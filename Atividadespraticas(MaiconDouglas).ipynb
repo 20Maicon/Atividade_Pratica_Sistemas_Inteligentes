{
  "nbformat": 4,
  "nbformat_minor": 0,
  "metadata": {
    "colab": {
      "provenance": [],
      "toc_visible": true
    },
    "kernelspec": {
      "name": "python3",
      "display_name": "Python 3"
    },
    "language_info": {
      "name": "python"
    }
  },
  "cells": [
    {
      "cell_type": "code",
      "execution_count": null,
      "metadata": {
        "id": "K0J1e4RzRS5P"
      },
      "outputs": [],
      "source": [
        "# prompt: leia o arquivo titanic.csv\n",
        "\n",
        "import pandas as pd\n",
        "from sklearn.model_selection import train_test_split\n",
        "\n",
        "df = pd.read_csv('titanic (1).csv')\n",
        "\n",
        "#df.head()\n",
        "\n",
        "features = ['Pclass', 'Sex','Age','Fare','SibSp','Parch']\n",
        "\n",
        "X = df[features] #selecionando os atributos\n",
        "X['Sex'] = X['Sex'].map({'male':0,'female':1})\n",
        "\n",
        "y = df['Survived']\n",
        "\n",
        "X = X.fillna(X.mean()) #trocando dados corrompidos pela média da coluna\n",
        "\n",
        "X_train, X_test, y_train, y_test = train_test_split(X,y, test_size=0.2, random_state=42)\n",
        "\n",
        "\n",
        "from sklearn.tree import DecisionTreeClassifier\n",
        "from sklearn.tree import export_text\n",
        "from sklearn.metrics import accuracy_score\n",
        "\n",
        "\n",
        "#criando o classificador\n",
        "decision_tree_classifier = DecisionTreeClassifier()\n",
        "\n",
        "decision_tree_classifier.fit(X_train, y_train)\n",
        "\n",
        "tree_rules = export_text(decision_tree_classifier,\n",
        "                         feature_names=features)\n",
        "\n",
        "print(tree_rules)\n",
        "\n",
        "predictions = decision_tree_classifier.predict(X_test)\n",
        "\n",
        "accuracy = accuracy_score(y_test, predictions)\n",
        "\n",
        "print(\"Precisão: \",accuracy)\n",
        "\n",
        "\n",
        "\n",
        "\n",
        "\n",
        "\n",
        "\n",
        "\n",
        "\n"
      ]
    },
    {
      "cell_type": "markdown",
      "source": [],
      "metadata": {
        "id": "DEBt1Hqmk9uq"
      }
    },
    {
      "cell_type": "markdown",
      "source": [
        "Classificador Árvore de Decisão"
      ],
      "metadata": {
        "id": "95DU1-0plCFx"
      }
    },
    {
      "cell_type": "code",
      "source": [
        "\n",
        "from sklearn.tree import DecisionTreeClassifier\n",
        "from sklearn.tree import export_text\n",
        "from sklearn.metrics import accuracy_score\n",
        "\n",
        "\n",
        "#criando o classificador\n",
        "decision_tree_classifier = DecisionTreeClassifier()\n",
        "\n",
        "decision_tree_classifier.fit(X_train, y_train)\n",
        "\n",
        "tree_rules = export_text(decision_tree_classifier,\n",
        "                         feature_names=features)\n",
        "\n",
        "#print(tree_rules)\n",
        "\n",
        "predictions = decision_tree_classifier.predict(X_test)\n",
        "\n",
        "accuracy = accuracy_score(y_test, predictions)\n",
        "\n",
        "print(\"Precisão: \",accuracy)\n"
      ],
      "metadata": {
        "colab": {
          "base_uri": "https://localhost:8080/"
        },
        "id": "dLNJ6G3ZlNST",
        "outputId": "dbc61bb7-ab48-40c3-cfaa-a2a6ed5f0d46"
      },
      "execution_count": 24,
      "outputs": [
        {
          "output_type": "stream",
          "name": "stdout",
          "text": [
            "Precisão:  0.7653631284916201\n"
          ]
        }
      ]
    },
    {
      "cell_type": "code",
      "source": [
        "from sklearn.neural_network import MLPClassifier\n",
        "from sklearn.metrics import accuracy_score\n",
        "mlp = MLPClassifier(hidden_layer_sizes=(10,5),\n",
        "                    max_iter=1000, random_state=42)\n",
        "\n",
        "mlp.fit(X_train, y_train)\n",
        "\n",
        "predictions = mlp.predict(X_test)\n",
        "\n"
      ],
      "metadata": {
        "id": "TUyMbN8MvhvN"
      },
      "execution_count": 32,
      "outputs": []
    },
    {
      "cell_type": "markdown",
      "source": [],
      "metadata": {
        "id": "kHVyzaXNvfR3"
      }
    }
  ]
}